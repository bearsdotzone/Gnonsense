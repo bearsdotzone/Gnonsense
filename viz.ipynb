{
 "cells": [
  {
   "cell_type": "markdown",
   "metadata": {},
   "source": [
    "# Setting up Nodes"
   ]
  },
  {
   "cell_type": "code",
   "execution_count": 10,
   "metadata": {},
   "outputs": [],
   "source": [
    "import networkx as nx\n",
    "import matplotlib.pyplot as plt\n",
    "G = nx.Graph()"
   ]
  },
  {
   "cell_type": "markdown",
   "metadata": {},
   "source": [
    "## Trainable Skills"
   ]
  },
  {
   "cell_type": "code",
   "execution_count": 11,
   "metadata": {},
   "outputs": [],
   "source": [
    "G.add_nodes_from([\"Combat\",\"Magic\",\"Prayer\",\"Construction\",\"Agility\",\"Herblore\",\"Thieving\",\"Crafting\",\"Fletching\",\"Slayer\",\"Hunter\",\"Mining\",\"Smithing\",\"Cooking\",\"Firemaking\",\"Woodcutting\",\"Farming\"])"
   ]
  },
  {
   "cell_type": "markdown",
   "metadata": {},
   "source": [
    "## Quests"
   ]
  },
  {
   "cell_type": "code",
   "execution_count": 12,
   "metadata": {},
   "outputs": [],
   "source": [
    "G.add_node(\"Tree Gnome Village\")\n",
    "G.add_node(\"The Grand Tree\")\n",
    "G.add_node(\"Monkey Madness I\")\n",
    "G.add_node(\"The Eyes of Glouphrie\")\n",
    "G.add_node(\"Monkey Madness II\")\n",
    "G.add_node(\"Enlightened Journey\")"
   ]
  }
 ],
 "metadata": {
  "interpreter": {
   "hash": "fed723cfad43f262dd3898b34528d27334992df11bf01b2813d73e4275df6d91"
  },
  "kernelspec": {
   "display_name": "Python 3.9.7 64-bit ('jupyter': conda)",
   "language": "python",
   "name": "python3"
  },
  "language_info": {
   "codemirror_mode": {
    "name": "ipython",
    "version": 3
   },
   "file_extension": ".py",
   "mimetype": "text/x-python",
   "name": "python",
   "nbconvert_exporter": "python",
   "pygments_lexer": "ipython3",
   "version": "3.9.7"
  },
  "orig_nbformat": 4
 },
 "nbformat": 4,
 "nbformat_minor": 2
}
